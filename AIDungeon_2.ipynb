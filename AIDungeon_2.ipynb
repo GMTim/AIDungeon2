{
  "nbformat": 4,
  "nbformat_minor": 0,
  "metadata": {
    "colab": {
      "name": "AIDungeon_2.ipynb",
      "provenance": [],
      "collapsed_sections": [],
      "include_colab_link": true
    },
    "kernelspec": {
      "name": "python3",
      "display_name": "Python 3"
    },
    "accelerator": "GPU"
  },
  "cells": [
    {
      "cell_type": "markdown",
      "metadata": {
        "id": "view-in-github",
        "colab_type": "text"
      },
      "source": [
        "<a href=\"https://colab.research.google.com/github/GMTim/AIDungeon2/blob/master/AIDungeon_2.ipynb\" target=\"_parent\"><img src=\"https://colab.research.google.com/assets/colab-badge.svg\" alt=\"Open In Colab\"/></a>"
      ]
    },
    {
      "cell_type": "markdown",
      "metadata": {
        "id": "7dRi_BDWErNf",
        "colab_type": "text"
      },
      "source": [
        "# AI Dungeon 2 Uncensored\n",
        "\n",
        "AI Dungeon 2 is a completely AI generated text adventure built with OpenAI's largest GPT-2 model. It's a first of it's kind game that allows you to enter and will react to any action you can imagine. \n",
        "\n",
        "[Read more about how AI Dungeon 2 is made.](https://pcc.cs.byu.edu/2019/11/21/ai-dungeon-2-creating-infinitely-generated-text-adventures-with-deep-learning-language-models/)\n",
        "\n",
        "## How to play\n",
        "1. Click \"Tools\"-> \"Settings...\" -> \"Theme\" -> \"Dark\" (optional but recommended)\n",
        "2. Click \"Runtime\" -> \"Run all\"\n",
        "\n",
        "3. It will then take a couple minutes to boot up as the model is downloaded loaded onto the GPU. \n",
        "\n",
        "## Links\n",
        "* While you wait you can [read adventures others have had](https://aidungeon.io/).\n",
        "* If you have any questions or issues feel free to contact me on twitter https://twitter.com/nickwalton00\n",
        "* If you like playing then please consider [supporting](https://www.patreon.com/join/AIDungeon/) me to allow future improvements to AI Dungeon. "
      ]
    },
    {
      "cell_type": "code",
      "metadata": {
        "id": "FKqlSCrpS9dH",
        "colab_type": "code",
        "colab": {}
      },
      "source": [
        "!git clone https://github.com/WAUthethird/AIDungeon-Uncensored/\n",
        "%cd AIDungeon-Uncensored\n",
        "!./install.sh\n",
        "from IPython.display import clear_output \n",
        "clear_output()\n",
        "print(\"Download Complete!\")"
      ],
      "execution_count": 0,
      "outputs": []
    },
    {
      "cell_type": "code",
      "metadata": {
        "id": "YjArwbWh6XwN",
        "colab_type": "code",
        "colab": {}
      },
      "source": [
        "from IPython.display import Javascript\n",
        "display(Javascript('''google.colab.output.setIframeHeight(0, true, {maxHeight: 5000})'''))\n",
        "!python play.py"
      ],
      "execution_count": 0,
      "outputs": []
    },
    {
      "cell_type": "markdown",
      "metadata": {
        "id": "s8JwIpZhqxJa",
        "colab_type": "text"
      },
      "source": [
        "If you get an OOM (out of memory error, random crashes) you might want to increase the available RAM. To do this, change your runtime to a TPU (Runtime->Change Runtime Type) and run the code below. Wait until it crashes and a little message pops up asking if you'd like to increase the available memory. Say yes and run the game.\n",
        "\n",
        "Credit goes to [bpseudopod](https://www.reddit.com/user/bpseudopod/) for figuring this out. View the post where that happened here: [https://www.reddit.com/r/AIDungeon/comments/e782oi/tips_for_crash_prevention/](https://www.reddit.com/r/AIDungeon/comments/e782oi/tips_for_crash_prevention/)"
      ]
    },
    {
      "cell_type": "code",
      "metadata": {
        "id": "Zb8MBT52sIHn",
        "colab_type": "code",
        "colab": {}
      },
      "source": [
        "d = []\n",
        "while True:\n",
        "    d.append(1)"
      ],
      "execution_count": 0,
      "outputs": []
    }
  ]
}